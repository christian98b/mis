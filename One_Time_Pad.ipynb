{
  "nbformat": 4,
  "nbformat_minor": 0,
  "metadata": {
    "colab": {
      "name": "One-Time-Pad.ipynb",
      "provenance": [],
      "authorship_tag": "ABX9TyMgmHSHeLoZ8raMRqveYFzY",
      "include_colab_link": true
    },
    "kernelspec": {
      "name": "python3",
      "display_name": "Python 3"
    },
    "language_info": {
      "name": "python"
    }
  },
  "cells": [
    {
      "cell_type": "markdown",
      "metadata": {
        "id": "view-in-github",
        "colab_type": "text"
      },
      "source": [
        "<a href=\"https://colab.research.google.com/github/district987/mis/blob/main/One_Time_Pad.ipynb\" target=\"_parent\"><img src=\"https://colab.research.google.com/assets/colab-badge.svg\" alt=\"Open In Colab\"/></a>"
      ]
    },
    {
      "cell_type": "markdown",
      "metadata": {
        "id": "rbCDKAIGxP2q"
      },
      "source": [
        "\n",
        "\n",
        "Eingeben\n",
        "\n"
      ]
    },
    {
      "cell_type": "code",
      "metadata": {
        "colab": {
          "base_uri": "https://localhost:8080/"
        },
        "id": "QyFxHN1SXO78",
        "outputId": "f20a5e60-2cb6-4cfe-c3f5-deb102f32ae5"
      },
      "source": [
        "eingabe = input('Eingabe: ')\n",
        "print('{0:b}'.format((int.from_bytes(eingabe.encode(), 'big'))))\n",
        "schluessel = input('Gleichlanger Schlüssel: ')\n",
        "print('{0:b}'.format((int.from_bytes(schluessel.encode(), 'big'))))\n",
        "encode(eingabe,schluessel)\n"
      ],
      "execution_count": 27,
      "outputs": [
        {
          "output_type": "stream",
          "name": "stdout",
          "text": [
            "Eingabe: Hallo\n",
            "100100001100001011011000110110001101111\n",
            "Gleichlanger Schlüssel: Testwas\n",
            "1010100011001010111001101110100011101110110000101110011\n",
            "Verschlüsseltes Wort: 001110000000100000111110001100000011000\n"
          ]
        }
      ]
    },
    {
      "cell_type": "markdown",
      "metadata": {
        "id": "p1uwk6DGxSzk"
      },
      "source": [
        "Entschlüsseln"
      ]
    },
    {
      "cell_type": "code",
      "metadata": {
        "colab": {
          "base_uri": "https://localhost:8080/"
        },
        "id": "PrDWanPkXheP",
        "outputId": "e184e888-2da2-493b-a7bd-6ca9b647d175"
      },
      "source": [
        "geheimenachricht = input('Binäre Geheimdaten: ')\n",
        "schluessel = input('Schlüssel als ASCII: ')\n",
        "decode(geheimenachricht,schluessel)"
      ],
      "execution_count": 29,
      "outputs": [
        {
          "output_type": "stream",
          "name": "stdout",
          "text": [
            "Binäre Geheimdaten: 001110000000100000111110001100000011000\n",
            "Schlüssel als ASCII: Testwas\n",
            "Nachricht: Hallo\n"
          ]
        }
      ]
    },
    {
      "cell_type": "markdown",
      "metadata": {
        "id": "qammGfVjFVPh"
      },
      "source": [
        "Verschlüsselungsfunktion"
      ]
    },
    {
      "cell_type": "code",
      "metadata": {
        "id": "-zxbIu7ND71T"
      },
      "source": [
        "def encode(eingabe,schluessel):\n",
        "\n",
        "  eingabe = '{0:b}'.format((int.from_bytes(eingabe.encode(), 'big')))\n",
        "  schluessel = '{0:b}'.format((int.from_bytes(schluessel.encode(), 'big')))   #Konvertieren in ByteString\n",
        "\n",
        "  eingabe = [int(x) for x in eingabe]\n",
        "  eingabe = [bool(x) for x in eingabe]\n",
        "  schluessel = [int(x) for x in schluessel]\n",
        "  schluessel = [bool(x) for x in schluessel]   #Erzeugen eines Arrays aus Boolean Werten\n",
        "\n",
        "  ausgabestring = xor(eingabe,schluessel)     #In der XOR-Funktion wird verschlüsselt\n",
        "\n",
        "  print('Verschlüsseltes Wort: ' + ausgabestring)\n"
      ],
      "execution_count": 19,
      "outputs": []
    },
    {
      "cell_type": "markdown",
      "metadata": {
        "id": "VH7TXN2fPeqn"
      },
      "source": [
        "Entschlüsselung"
      ]
    },
    {
      "cell_type": "code",
      "metadata": {
        "id": "547xAZa1Pga-"
      },
      "source": [
        "def decode(eingabe,schluessel):\n",
        "\n",
        "  schluessel = '{0:b}'.format((int.from_bytes(schluessel.encode(), 'big')))   #Konvertieren in ByteString\n",
        "\n",
        "  eingabe = [int(x) for x in eingabe]\n",
        "  eingabe = [bool(x) for x in eingabe]\n",
        "  schluessel = [int(x) for x in schluessel]\n",
        "  schluessel = [bool(x) for x in schluessel]\n",
        "\n",
        "  ausgabestring = xor(eingabe,schluessel)\n",
        "\n",
        "  ausgabestring = hex(int(ausgabestring, 2))\n",
        "  ausgabestring = ausgabestring[2:]\n",
        "\n",
        "  print('Nachricht: ' + bytearray.fromhex(ausgabestring).decode())"
      ],
      "execution_count": 20,
      "outputs": []
    },
    {
      "cell_type": "markdown",
      "metadata": {
        "id": "7Vj_P-HdVQwN"
      },
      "source": [
        "Start to run Code"
      ]
    },
    {
      "cell_type": "code",
      "metadata": {
        "id": "wSWYkdnZQhdr"
      },
      "source": [
        "def xor(eingabe,schluessel):\n",
        "\n",
        "  try:\n",
        "    if len(eingabe) > len(schluessel):\n",
        "      raise Exception('Schlüssel kürzer als Eingabe, ergebnis falsch!')\n",
        "  except Exception as e:\n",
        "    print(str(e))\n",
        "\n",
        "  zippedlist = list(zip(eingabe,schluessel))\n",
        "\n",
        "  for x in zippedlist:\n",
        "    zippedlist[zippedlist.index(x)] = (x[0] != x[1])    #XORn\n",
        "\n",
        "  zippedlistint = [int(x) for x in zippedlist]\n",
        "\n",
        "  ausgabestring = \"\"\n",
        "  for x in zippedlistint:\n",
        "    ausgabestring += str(x)\n",
        "\n",
        "  return ausgabestring"
      ],
      "execution_count": 26,
      "outputs": []
    }
  ]
}